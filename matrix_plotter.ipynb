{
 "cells": [
  {
   "cell_type": "code",
   "execution_count": 41,
   "metadata": {},
   "outputs": [],
   "source": [
    "#make some very import stuff\n",
    "\n",
    "import numpy as np\n",
    "import oddt\n",
    "import matplotlib\n",
    "from matplotlib import pyplot as plt\n",
    "from oddt.interactions import (close_contacts, hbonds, hydrophobic_contacts, pi_cation, pi_stacking, salt_bridges)\n",
    "\n",
    "\n",
    "#handy function to automatize hbond identification \n",
    "def hbonds_identifier(protein, ligand):\n",
    "    \n",
    "    '''\n",
    "    input: protein obj and ligand obj from oddt\n",
    "    return: a list containing [residue's number, residue's name, residue's atomtype, ligand's atomtype,\n",
    "    ligand's atom nunmber]\n",
    "    '''    \n",
    "    t = []\n",
    "    protein_atoms, ligand_atoms, strict = hbonds(protein, ligand)\n",
    "    for i in range(len(protein_atoms['resnum'])):\n",
    "        t.append((protein_atoms['resnum'][i],protein_atoms['resname'][i],protein_atoms['atomtype'][i], ligand_atoms['atomtype'][i], ligand_atoms['id'][i]))\n",
    "    return(t)\n",
    "\n",
    "\n",
    "#handy function to automatize hydrophobic contact identification \n",
    "def hydrophobics_identifier(protein, ligand):\n",
    "    \n",
    "    '''\n",
    "    input: protein obj and ligand obj from oddt\n",
    "    return: a list containing [residue's number, residue's name, residue's atomtype, ligand's atomtype,\n",
    "    ligand's atom nunmber]\n",
    "    '''\n",
    "    t = []\n",
    "    protein_atoms, ligand_atoms = hydrophobic_contacts(protein, ligand)\n",
    "    for i in range(len(protein_atoms['resnum'])):\n",
    "        t.append((protein_atoms['resnum'][i],protein_atoms['resname'][i],protein_atoms['atomtype'][i], ligand_atoms['atomtype'][i], ligand_atoms['id'][i]))\n",
    "    return(t)\n",
    "\n",
    "\n",
    "#return a binary list containing 1 if the interacting residue of  ligand is in the reference array\n",
    "def feature_count(interaction_array, reference_array):\n",
    "\n",
    "    '''\n",
    "    Input: interaction_array = a list of residues interacting with a ligand\n",
    "            reference_array = a non redundant list of all the residues interacting with all the ligands\n",
    "    return: a binary array where 1 indicate that a residues is found in the interaction array, else 0\n",
    "    '''\n",
    "    \n",
    "    feature_count = []\n",
    "    for tupla in reference_array:\n",
    "        print(tupla)\n",
    "        if tupla in interaction_array:\n",
    "            feature_count.append(1)\n",
    "        else:\n",
    "            feature_count.append(0)\n",
    "    return feature_count"
   ]
  },
  {
   "cell_type": "code",
   "execution_count": null,
   "metadata": {},
   "outputs": [],
   "source": [
    "#proteins loading as oddt obj\n",
    "protein_2JBL = next(oddt.toolkit.readfile('pdb', '/home/gabriele/Documenti/vincent/2JBL/protein.pdb'))\n",
    "protein_2JBL.protein = True\n",
    "protein_5PRC = next(oddt.toolkit.readfile('pdb', '/home/gabriele/Documenti/vincent/5PRC/protein.pdb'))\n",
    "protein_5PRC.protein = True\n",
    "protein_1DXR = next(oddt.toolkit.readfile('pdb', '/home/gabriele/Documenti/vincent/1DXR/protein.pdb'))\n",
    "protein_1DXR.protein = True\n",
    "\n",
    "#ligands import as oddt obj\n",
    "SMA = next(oddt.toolkit.readfile('pdb', '/home/gabriele/Documenti/vincent/2JBL/SMA.pdb'))\n",
    "ATZ = next(oddt.toolkit.readfile('pdb', '/home/gabriele/Documenti/vincent/5PRC/ATZ.pdb'))\n",
    "MST = next(oddt.toolkit.readfile('pdb', '/home/gabriele/Documenti/vincent/1DXR/MST.pdb'))"
   ]
  },
  {
   "cell_type": "code",
   "execution_count": 42,
   "metadata": {},
   "outputs": [
    {
     "name": "stdout",
     "output_type": "stream",
     "text": [
      "(223, 'SER')\n",
      "(222, 'TYR')\n",
      "(190, 'HIS')\n",
      "(223, 'SER')\n",
      "(222, 'TYR')\n",
      "(190, 'HIS')\n",
      "(223, 'SER')\n",
      "(222, 'TYR')\n",
      "(190, 'HIS')\n",
      "(216, 'PHE')\n",
      "(220, 'VAL')\n",
      "(212, 'GLU')\n",
      "(189, 'LEU')\n",
      "(232, 'LEU')\n",
      "(229, 'ILE')\n",
      "(193, 'LEU')\n",
      "(222, 'TYR')\n",
      "(216, 'PHE')\n",
      "(220, 'VAL')\n",
      "(212, 'GLU')\n",
      "(189, 'LEU')\n",
      "(232, 'LEU')\n",
      "(229, 'ILE')\n",
      "(193, 'LEU')\n",
      "(222, 'TYR')\n",
      "(216, 'PHE')\n",
      "(220, 'VAL')\n",
      "(212, 'GLU')\n",
      "(189, 'LEU')\n",
      "(232, 'LEU')\n",
      "(229, 'ILE')\n",
      "(193, 'LEU')\n",
      "(222, 'TYR')\n"
     ]
    },
    {
     "data": {
      "image/png": "[encoded data removed]",
      "text/plain": [
       "<Figure size 864x648 with 1 Axes>"
      ]
     },
     "metadata": {
      "needs_background": "light"
     },
     "output_type": "display_data"
    }
   ],
   "source": [
    "#hbonds calculation\n",
    "hbonds_sma = hbonds_identifier(protein_2JBL, SMA)\n",
    "hbonds_atz = hbonds_identifier(protein_5PRC, ATZ)\n",
    "hbonds_mst = hbonds_identifier(protein_1DXR, MST)\n",
    "\n",
    "#hydrophobic contacts calculation\n",
    "hydrophobic_sma = hydrophobics_identifier(protein_2JBL, SMA)\n",
    "hydrophobic_atz = hydrophobics_identifier(protein_5PRC, ATZ)\n",
    "hydrophobic_mst = hydrophobics_identifier(protein_1DXR, MST)\n",
    "\n",
    "#retrieving only resid and resname for hbonds\n",
    "SMA_hb = [(x[0],x[1]) for x in hbonds_sma]\n",
    "MST_hb = [(x[0],x[1]) for x in hbonds_mst]\n",
    "atz_hb = [(x[0],x[1]) for x in hbonds_atz]\n",
    "hbs = SMA_hb + MST_hb + atz_hb\n",
    "hbs = list(set(hbs))\n",
    "\n",
    "#retrieving only resid and resname for hydrophobic\n",
    "SMA_hc = [(x[0],x[1]) for x in hydrophobic_sma]\n",
    "MST_hc = [(x[0],x[1]) for x in hydrophobic_mst]\n",
    "atz_hc = [(x[0],x[1]) for x in hydrophobic_atz]\n",
    "hc = SMA_hc + MST_hc + atz_hc\n",
    "hc = list(set(hc))\n",
    "\n",
    "#binary arrays retrieving for hbonds\n",
    "SMA_FC = feature_count(set(SMA_hb), hbs)\n",
    "MST_FC = feature_count(set(MST_hb), hbs)\n",
    "ATZ_FC = feature_count(set(atz_hb), hbs)\n",
    "\n",
    "#binary matrix for hbonds\n",
    "narray_hbs = np.array([SMA_FC, MST_FC, ATZ_FC])\n",
    "\n",
    "#binary arrays retrieving for hydrophobic\n",
    "SMA_FC = feature_count(set(SMA_hc), hc)\n",
    "MST_FC = feature_count(set(MST_hc), hc)\n",
    "ATZ_FC = feature_count(set(atz_hc), hc)\n",
    "\n",
    "#binary matrix for hydrophobic\n",
    "narray_hc = np.array([SMA_FC, MST_FC, ATZ_FC])\n",
    "\n",
    "#taking in consideration the offset in residues numeration\n",
    "last_hbs = [\"{1}_{0}\".format(x[0], x[1]) for x in hbs]\n",
    "last_hc = [\"{1}_{0}\".format(x[0], x[1]) for x in hc]\n",
    "\n",
    "#y axis label, the name of the ligand\n",
    "compounds = ['SMA','MST','ATZ']\n",
    "\n",
    "#plot the features presence matrix\n",
    "#firstly for hbonds\n",
    "fig, ax = plt.subplots()\n",
    "fig.set_size_inches(12, 9)\n",
    "intersection_matrix = narray_hbs\n",
    "ax.matshow(intersection_matrix, cmap=plt.cm.Blues)\n",
    "\n",
    "# put the major ticks at the middle of each cell\n",
    "ax.set_xticks(np.arange(narray_hbs.shape[1]), minor=False)\n",
    "ax.set_yticks(np.arange(narray_hbs.shape[0]), minor=False)\n",
    "ax.invert_yaxis()\n",
    "\n",
    "#labels\n",
    "ax.set_xticklabels(last_hbs, minor=False)\n",
    "ax.set_yticklabels(compounds, minor=False)\n",
    "plt.show()"
   ]
  },
  {
   "cell_type": "code",
   "execution_count": 43,
   "metadata": {},
   "outputs": [
    {
     "data": {
      "image/png": "[encoded data removed]",
      "text/plain": [
       "<Figure size 864x648 with 1 Axes>"
      ]
     },
     "metadata": {
      "needs_background": "light"
     },
     "output_type": "display_data"
    }
   ],
   "source": [
    "#then for hydrophobic contacts\n",
    "fig, ax = plt.subplots()\n",
    "fig.set_size_inches(12, 9)\n",
    "intersection_matrix = narray_hc\n",
    "ax.matshow(intersection_matrix, cmap=plt.cm.Blues)\n",
    "\n",
    "# put the major ticks at the middle of each cell\n",
    "ax.set_xticks(np.arange(narray_hc.shape[1]), minor=False)\n",
    "ax.set_yticks(np.arange(narray_hc.shape[0]), minor=False)\n",
    "ax.invert_yaxis()\n",
    "\n",
    "#labels\n",
    "ax.set_xticklabels(last_hc, minor=False)\n",
    "ax.set_yticklabels(compounds, minor=False)\n",
    "plt.show()"
   ]
  },
  {
   "cell_type": "code",
   "execution_count": 34,
   "metadata": {},
   "outputs": [
    {
     "data": {
      "text/plain": [
       "[(191, 'HIS', 'N.ar', 'O.2', 31),\n",
       " (224, 'SER', 'O.2', 'O.2', 34),\n",
       " (224, 'SER', 'O.2', 'O.3', 33),\n",
       " (224, 'SER', 'O.2', 'O.2', 34)]"
      ]
     },
     "execution_count": 34,
     "metadata": {},
     "output_type": "execute_result"
    }
   ],
   "source": [
    "hbonds_sma"
   ]
  },
  {
   "cell_type": "code",
   "execution_count": 35,
   "metadata": {},
   "outputs": [
    {
     "data": {
      "text/plain": [
       "[(223, 'TYR', 'O.2', 'N.3', 7),\n",
       " (224, 'SER', 'O.2', 'N.3', 5),\n",
       " (224, 'SER', 'O.2', 'N.3', 11)]"
      ]
     },
     "execution_count": 35,
     "metadata": {},
     "output_type": "execute_result"
    }
   ],
   "source": [
    "hbonds_atz"
   ]
  },
  {
   "cell_type": "code",
   "execution_count": 36,
   "metadata": {},
   "outputs": [
    {
     "data": {
      "text/plain": [
       "[(223, 'TYR', 'O.2', 'N.3', 6), (224, 'SER', 'O.2', 'N.3', 13)]"
      ]
     },
     "execution_count": 36,
     "metadata": {},
     "output_type": "execute_result"
    }
   ],
   "source": [
    "hbonds_mst"
   ]
  },
  {
   "cell_type": "code",
   "execution_count": 71,
   "metadata": {},
   "outputs": [],
   "source": [
    "protein_2J8C = next(oddt.toolkit.readfile('pdb', '/home/gabriele/Documenti/vincent/2J8C/protein.pdb'))\n",
    "protein_2J8C.protein = True\n",
    "Q2D = next(oddt.toolkit.readfile('pdb', '/home/gabriele/Documenti/vincent/2J8C/Q2_distal.pdb'))\n",
    "Q2P = next(oddt.toolkit.readfile('pdb', '/home/gabriele/Documenti/vincent/2J8C/Q2_proximal.pdb'))"
   ]
  },
  {
   "cell_type": "code",
   "execution_count": 74,
   "metadata": {},
   "outputs": [
    {
     "data": {
      "image/png": "[encoded data removed]",
      "text/html": [
       "<img src=\"data:image/png;base64,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\" alt=\"\">"
      ],
      "text/plain": [
       "<img src=\"data:image/png;base64,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\" alt=\"\">"
      ]
     },
     "execution_count": 74,
     "metadata": {},
     "output_type": "execute_result"
    }
   ],
   "source": [
    "Q2P"
   ]
  },
  {
   "cell_type": "code",
   "execution_count": null,
   "metadata": {},
   "outputs": [],
   "source": []
  },
  {
   "cell_type": "code",
   "execution_count": 44,
   "metadata": {},
   "outputs": [],
   "source": [
    "hbonds_q2p = hbonds_identifier(protein_2J8C, Q2P)\n",
    "hydrophobic_q2p = hydrophobics_identifier(protein_2J8C, Q2P)\n",
    "q2p_hb = [(x[0],x[1]) for x in hbonds_q2p]\n",
    "q2p_hc = [(x[0],x[1]) for x in hydrophobic_q2p]\n",
    "hbonds_q2d = hbonds_identifier(protein_2J8C, Q2D)\n",
    "hydrophobic_q2d = hydrophobics_identifier(protein_2J8C, Q2D)\n",
    "q2d_hb = [(x[0],x[1]) for x in hbonds_q2d]\n",
    "q2d_hc = [(x[0],x[1]) for x in hydrophobic_q2d]"
   ]
  },
  {
   "cell_type": "code",
   "execution_count": 49,
   "metadata": {},
   "outputs": [
    {
     "name": "stdout",
     "output_type": "stream",
     "text": [
      "(224, 'ILE')\n",
      "(190, 'HIS')\n",
      "(223, 'SER')\n",
      "(225, 'GLY')\n",
      "(222, 'TYR')\n",
      "(224, 'ILE')\n",
      "(190, 'HIS')\n",
      "(223, 'SER')\n",
      "(225, 'GLY')\n",
      "(222, 'TYR')\n",
      "(224, 'ILE')\n",
      "(190, 'HIS')\n",
      "(223, 'SER')\n",
      "(225, 'GLY')\n",
      "(222, 'TYR')\n",
      "(224, 'ILE')\n",
      "(190, 'HIS')\n",
      "(223, 'SER')\n",
      "(225, 'GLY')\n",
      "(222, 'TYR')\n",
      "(224, 'ILE')\n",
      "(190, 'HIS')\n",
      "(223, 'SER')\n",
      "(225, 'GLY')\n",
      "(222, 'TYR')\n",
      "(216, 'PHE')\n",
      "(220, 'VAL')\n",
      "(212, 'GLU')\n",
      "(224, 'ILE')\n",
      "(189, 'LEU')\n",
      "(186, 'ALA')\n",
      "(182, 'THR')\n",
      "(232, 'LEU')\n",
      "(229, 'ILE')\n",
      "(193, 'LEU')\n",
      "(222, 'TYR')\n",
      "(216, 'PHE')\n",
      "(220, 'VAL')\n",
      "(212, 'GLU')\n",
      "(224, 'ILE')\n",
      "(189, 'LEU')\n",
      "(186, 'ALA')\n",
      "(182, 'THR')\n",
      "(232, 'LEU')\n",
      "(229, 'ILE')\n",
      "(193, 'LEU')\n",
      "(222, 'TYR')\n",
      "(216, 'PHE')\n",
      "(220, 'VAL')\n",
      "(212, 'GLU')\n",
      "(224, 'ILE')\n",
      "(189, 'LEU')\n",
      "(186, 'ALA')\n",
      "(182, 'THR')\n",
      "(232, 'LEU')\n",
      "(229, 'ILE')\n",
      "(193, 'LEU')\n",
      "(222, 'TYR')\n",
      "(216, 'PHE')\n",
      "(220, 'VAL')\n",
      "(212, 'GLU')\n",
      "(224, 'ILE')\n",
      "(189, 'LEU')\n",
      "(186, 'ALA')\n",
      "(182, 'THR')\n",
      "(232, 'LEU')\n",
      "(229, 'ILE')\n",
      "(193, 'LEU')\n",
      "(222, 'TYR')\n",
      "(216, 'PHE')\n",
      "(220, 'VAL')\n",
      "(212, 'GLU')\n",
      "(224, 'ILE')\n",
      "(189, 'LEU')\n",
      "(186, 'ALA')\n",
      "(182, 'THR')\n",
      "(232, 'LEU')\n",
      "(229, 'ILE')\n",
      "(193, 'LEU')\n",
      "(222, 'TYR')\n"
     ]
    }
   ],
   "source": [
    "hbs = SMA_hb + MST_hb + atz_hb + q2p_hb + q2d_hb\n",
    "hbs = list(set(hbs))\n",
    "\n",
    "hc = SMA_hc + MST_hc + atz_hc + q2p_hc + q2d_hc\n",
    "hc = list(set(hc))\n",
    "\n",
    "SMA_FC = feature_count(set(SMA_hb), hbs)\n",
    "MST_FC = feature_count(set(MST_hb), hbs)\n",
    "ATZ_FC = feature_count(set(atz_hb), hbs)\n",
    "Q2P_FC = feature_count(set(q2p_hb), hbs)\n",
    "Q2D_FC = feature_count(set(q2d_hb), hbs)\n",
    "narray_hbs = np.array([SMA_FC, MST_FC, ATZ_FC, Q2P_FC, Q2D_FC])\n",
    "\n",
    "SMA_FC = feature_count(set(SMA_hc), hc)\n",
    "MST_FC = feature_count(set(MST_hc), hc)\n",
    "ATZ_FC = feature_count(set(atz_hc), hc)\n",
    "Q2P_FC = feature_count(set(q2p_hc), hc)\n",
    "Q2D_FC = feature_count(set(q2d_hc), hc)\n",
    "narray_hc = np.array([SMA_FC, MST_FC, ATZ_FC, Q2P_FC, Q2D_FC])"
   ]
  },
  {
   "cell_type": "code",
   "execution_count": 50,
   "metadata": {},
   "outputs": [
    {
     "data": {
      "image/png": "[encoded data removed]",
      "text/plain": [
       "<Figure size 864x648 with 1 Axes>"
      ]
     },
     "metadata": {
      "needs_background": "light"
     },
     "output_type": "display_data"
    }
   ],
   "source": [
    "#taking in consideration the offset in residues numeration\n",
    "last_hbs = [\"{1}_{0}\".format(x[0], x[1]) for x in hbs]\n",
    "last_hc = [\"{1}_{0}\".format(x[0], x[1]) for x in hc]\n",
    "\n",
    "#y axis label, the name of the ligand\n",
    "compounds = ['SMA','MST','ATZ', 'Q2P', 'Q2D']\n",
    "\n",
    "#plot the features presence matrix\n",
    "#firstly for hbonds\n",
    "fig, ax = plt.subplots()\n",
    "fig.set_size_inches(12, 9)\n",
    "intersection_matrix = narray_hbs\n",
    "ax.matshow(intersection_matrix, cmap=plt.cm.Blues)\n",
    "\n",
    "# put the major ticks at the middle of each cell\n",
    "ax.set_xticks(np.arange(narray_hbs.shape[1]), minor=False)\n",
    "ax.set_yticks(np.arange(narray_hbs.shape[0]), minor=False)\n",
    "ax.invert_yaxis()\n",
    "\n",
    "#labels\n",
    "ax.set_xticklabels(last_hbs, minor=False)\n",
    "ax.set_yticklabels(compounds, minor=False)\n",
    "plt.show()"
   ]
  },
  {
   "cell_type": "code",
   "execution_count": 51,
   "metadata": {},
   "outputs": [
    {
     "data": {
      "image/png": "[encoded data removed]",
      "text/plain": [
       "<Figure size 864x648 with 1 Axes>"
      ]
     },
     "metadata": {
      "needs_background": "light"
     },
     "output_type": "display_data"
    }
   ],
   "source": [
    "#then for hydrophobic contacts\n",
    "fig, ax = plt.subplots()\n",
    "fig.set_size_inches(12, 9)\n",
    "intersection_matrix = narray_hc\n",
    "ax.matshow(intersection_matrix, cmap=plt.cm.Blues)\n",
    "\n",
    "# put the major ticks at the middle of each cell\n",
    "ax.set_xticks(np.arange(narray_hc.shape[1]), minor=False)\n",
    "ax.set_yticks(np.arange(narray_hc.shape[0]), minor=False)\n",
    "ax.invert_yaxis()\n",
    "\n",
    "#labels\n",
    "ax.set_xticklabels(last_hc, minor=False)\n",
    "ax.set_yticklabels(compounds, minor=False)\n",
    "plt.show()"
   ]
  },
  {
   "cell_type": "code",
   "execution_count": 52,
   "metadata": {},
   "outputs": [
    {
     "data": {
      "text/plain": [
       "[]"
      ]
     },
     "execution_count": 52,
     "metadata": {},
     "output_type": "execute_result"
    }
   ],
   "source": [
    "hbonds_q2d"
   ]
  },
  {
   "cell_type": "code",
   "execution_count": 53,
   "metadata": {},
   "outputs": [
    {
     "data": {
      "text/plain": [
       "[]"
      ]
     },
     "execution_count": 53,
     "metadata": {},
     "output_type": "execute_result"
    }
   ],
   "source": [
    "hydrophobic_q2d"
   ]
  },
  {
   "cell_type": "code",
   "execution_count": 64,
   "metadata": {},
   "outputs": [],
   "source": [
    "protein_atoms, ligand_atoms, strict = hbonds(protein_2J8C, Q2D, cutoff=4, tolerance=50)"
   ]
  },
  {
   "cell_type": "code",
   "execution_count": 72,
   "metadata": {},
   "outputs": [
    {
     "data": {
      "image/png": "[encoded data removed]",
      "text/html": [
       "<img src=\"data:image/png;base64,iVBORw0KGgoAAAANSUhEUgAAAMgAAADICAIAAAAiOjnJAAAABmJLR0QA/wD/AP+gvaeTAAACFElEQVR4nO3SwQ3AIBDAsNL9dz6WIEJC9gR5ZM3MB6f9twN4k7FIGIuEsUgYi4SxSBiLhLFIGIuEsUgYi4SxSBiLhLFIGIuEsUgYi4SxSBiLhLFIGIuEsUgYi4SxSBiLhLFIGIuEsUgYi4SxSBiLhLFIGIuEsUgYi4SxSBiLhLFIGIuEsUgYi4SxSBiLhLFIGIuEsUgYi4SxSBiLhLFIGIuEsUgYi4SxSBiLhLFIGIuEsUgYi4SxSBiLhLFIGIuEsUgYi4SxSBiLhLFIGIuEsUgYi4SxSBiLhLFIGIuEsUgYi4SxSBiLhLFIGIuEsUgYi4SxSBiLhLFIGIuEsUgYi4SxSBiLhLFIGIuEsUgYi4SxSBiLhLFIGIuEsUgYi4SxSBiLhLFIGIuEsUgYi4SxSBiLhLFIGIuEsUgYi4SxSBiLhLFIGIuEsUgYi4SxSBiLhLFIGIuEsUgYi4SxSBiLhLFIGIuEsUgYi4SxSBiLhLFIGIuEsUgYi4SxSBiLhLFIGIuEsUgYi4SxSBiLhLFIGIuEsUgYi4SxSBiLhLFIGIuEsUgYi4SxSBiLhLFIGIuEsUgYi4SxSBiLhLFIGIuEsUgYi4SxSBiLhLFIGIuEsUgYi4SxSBiLhLFIGIuEsUgYi4SxSBiLhLFIGIuEsUgYi4SxSBiLhLFIGIuEsUgYi4SxSBiLhLFIGIuEsUgYi4SxSBiLxAYhCgSN2aqNlwAAAABJRU5ErkJggg==\" alt=\"\">"
      ],
      "text/plain": [
       "<img src=\"data:image/png;base64,iVBORw0KGgoAAAANSUhEUgAAAMgAAADICAIAAAAiOjnJAAAABmJLR0QA/wD/AP+gvaeTAAACFElEQVR4nO3SwQ3AIBDAsNL9dz6WIEJC9gR5ZM3MB6f9twN4k7FIGIuEsUgYi4SxSBiLhLFIGIuEsUgYi4SxSBiLhLFIGIuEsUgYi4SxSBiLhLFIGIuEsUgYi4SxSBiLhLFIGIuEsUgYi4SxSBiLhLFIGIuEsUgYi4SxSBiLhLFIGIuEsUgYi4SxSBiLhLFIGIuEsUgYi4SxSBiLhLFIGIuEsUgYi4SxSBiLhLFIGIuEsUgYi4SxSBiLhLFIGIuEsUgYi4SxSBiLhLFIGIuEsUgYi4SxSBiLhLFIGIuEsUgYi4SxSBiLhLFIGIuEsUgYi4SxSBiLhLFIGIuEsUgYi4SxSBiLhLFIGIuEsUgYi4SxSBiLhLFIGIuEsUgYi4SxSBiLhLFIGIuEsUgYi4SxSBiLhLFIGIuEsUgYi4SxSBiLhLFIGIuEsUgYi4SxSBiLhLFIGIuEsUgYi4SxSBiLhLFIGIuEsUgYi4SxSBiLhLFIGIuEsUgYi4SxSBiLhLFIGIuEsUgYi4SxSBiLhLFIGIuEsUgYi4SxSBiLhLFIGIuEsUgYi4SxSBiLhLFIGIuEsUgYi4SxSBiLhLFIGIuEsUgYi4SxSBiLhLFIGIuEsUgYi4SxSBiLhLFIGIuEsUgYi4SxSBiLhLFIGIuEsUgYi4SxSBiLhLFIGIuEsUgYi4SxSBiLhLFIGIuEsUgYi4SxSBiLxAYhCgSN2aqNlwAAAABJRU5ErkJggg==\" alt=\"\">"
      ]
     },
     "execution_count": 72,
     "metadata": {},
     "output_type": "execute_result"
    }
   ],
   "source": [
    "Q2D"
   ]
  },
  {
   "cell_type": "code",
   "execution_count": null,
   "metadata": {},
   "outputs": [],
   "source": []
  },
  {
   "cell_type": "code",
   "execution_count": null,
   "metadata": {},
   "outputs": [],
   "source": []
  },
  {
   "cell_type": "code",
   "execution_count": null,
   "metadata": {},
   "outputs": [],
   "source": []
  }
 ],
 "metadata": {
  "kernelspec": {
   "display_name": "Python 3",
   "language": "python",
   "name": "python3"
  },
  "language_info": {
   "codemirror_mode": {
    "name": "ipython",
    "version": 3
   },
   "file_extension": ".py",
   "mimetype": "text/x-python",
   "name": "python",
   "nbconvert_exporter": "python",
   "pygments_lexer": "ipython3",
   "version": "3.6.8"
  }
 },
 "nbformat": 4,
 "nbformat_minor": 2
}
